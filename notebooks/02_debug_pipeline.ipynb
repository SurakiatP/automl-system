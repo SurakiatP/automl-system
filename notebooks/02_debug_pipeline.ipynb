{
 "cells": [
  {
   "cell_type": "markdown",
   "metadata": {},
   "source": [
    "# Debugging AutoML Pipeline (Notebook Version) - Clean Start\n",
    "\n",
    "# Setup import path and working directory"
   ]
  },
  {
   "cell_type": "code",
   "execution_count": 1,
   "metadata": {},
   "outputs": [
    {
     "name": "stdout",
     "output_type": "stream",
     "text": [
      "Current working directory: c:\\Machine Learning Projects\\automl-system\\notebooks\n"
     ]
    },
    {
     "name": "stderr",
     "output_type": "stream",
     "text": [
      "c:\\Machine Learning Projects\\automl-system\\venv\\Lib\\site-packages\\tqdm\\auto.py:21: TqdmWarning: IProgress not found. Please update jupyter and ipywidgets. See https://ipywidgets.readthedocs.io/en/stable/user_install.html\n",
      "  from .autonotebook import tqdm as notebook_tqdm\n"
     ]
    }
   ],
   "source": [
    "import os\n",
    "print(\"Current working directory:\", os.getcwd())\n",
    "import sys\n",
    "os.chdir(\"..\")  # move up to project root\n",
    "sys.path.append(os.path.abspath(\".\"))\n",
    "import pandas as pd\n",
    "from sklearn.model_selection import train_test_split\n",
    "import matplotlib.pyplot as plt\n",
    "from automl.config import load_config\n",
    "from automl.pipeline import run_pipeline\n",
    "from automl.evaluator import evaluate_classification_model, plot_confusion\n",
    "\n"
   ]
  },
  {
   "cell_type": "markdown",
   "metadata": {},
   "source": [
    "# Load configuration\n"
   ]
  },
  {
   "cell_type": "code",
   "execution_count": 2,
   "metadata": {},
   "outputs": [],
   "source": [
    "config = load_config(\"config.yaml\")"
   ]
  },
  {
   "cell_type": "markdown",
   "metadata": {},
   "source": [
    "# Run full pipeline\n"
   ]
  },
  {
   "cell_type": "code",
   "execution_count": 3,
   "metadata": {},
   "outputs": [
    {
     "name": "stderr",
     "output_type": "stream",
     "text": [
      "c:\\Machine Learning Projects\\automl-system\\venv\\Lib\\site-packages\\xgboost\\training.py:183: UserWarning: [20:09:32] WARNING: C:\\actions-runner\\_work\\xgboost\\xgboost\\src\\learner.cc:738: \n",
      "Parameters: { \"use_label_encoder\" } are not used.\n",
      "\n",
      "  bst.update(dtrain, iteration=i, fobj=obj)\n",
      "c:\\Machine Learning Projects\\automl-system\\venv\\Lib\\site-packages\\xgboost\\training.py:183: UserWarning: [20:09:32] WARNING: C:\\actions-runner\\_work\\xgboost\\xgboost\\src\\learner.cc:738: \n",
      "Parameters: { \"use_label_encoder\" } are not used.\n",
      "\n",
      "  bst.update(dtrain, iteration=i, fobj=obj)\n",
      "c:\\Machine Learning Projects\\automl-system\\venv\\Lib\\site-packages\\xgboost\\training.py:183: UserWarning: [20:09:32] WARNING: C:\\actions-runner\\_work\\xgboost\\xgboost\\src\\learner.cc:738: \n",
      "Parameters: { \"use_label_encoder\" } are not used.\n",
      "\n",
      "  bst.update(dtrain, iteration=i, fobj=obj)\n",
      "c:\\Machine Learning Projects\\automl-system\\venv\\Lib\\site-packages\\xgboost\\training.py:183: UserWarning: [20:09:32] WARNING: C:\\actions-runner\\_work\\xgboost\\xgboost\\src\\learner.cc:738: \n",
      "Parameters: { \"use_label_encoder\" } are not used.\n",
      "\n",
      "  bst.update(dtrain, iteration=i, fobj=obj)\n",
      "c:\\Machine Learning Projects\\automl-system\\venv\\Lib\\site-packages\\xgboost\\training.py:183: UserWarning: [20:09:32] WARNING: C:\\actions-runner\\_work\\xgboost\\xgboost\\src\\learner.cc:738: \n",
      "Parameters: { \"use_label_encoder\" } are not used.\n",
      "\n",
      "  bst.update(dtrain, iteration=i, fobj=obj)\n"
     ]
    },
    {
     "name": "stdout",
     "output_type": "stream",
     "text": [
      "\n",
      "Model Performance:\n",
      "                    mean_score  std_score\n",
      "LogisticRegression    0.585640   0.022491\n",
      "XGBoost               0.554560   0.013929\n",
      "RandomForest          0.532727   0.027043\n",
      "\n",
      " Best Model: LogisticRegression\n"
     ]
    }
   ],
   "source": [
    "results = run_pipeline(\n",
    "    data_path=config['data_path'],\n",
    "    target_col=config['target_col'],\n",
    "    k_features=config['k_features'],\n",
    "    scoring=config['scoring'],\n",
    "    cv=config['cv'],\n",
    "    do_tuning=config.get('do_tuning', False)\n",
    ")"
   ]
  },
  {
   "cell_type": "markdown",
   "metadata": {},
   "source": [
    "# Load and split data\n"
   ]
  },
  {
   "cell_type": "code",
   "execution_count": 4,
   "metadata": {},
   "outputs": [],
   "source": [
    "raw_df = pd.read_csv(config['data_path'])\n",
    "X = raw_df.drop(columns=config['target_col'])\n",
    "y = raw_df[config['target_col']]\n",
    "X_train, X_test, y_train, y_test = train_test_split(X, y, test_size=0.2, random_state=42, stratify=y)"
   ]
  },
  {
   "cell_type": "markdown",
   "metadata": {},
   "source": [
    "# Preprocess and select features\n"
   ]
  },
  {
   "cell_type": "code",
   "execution_count": 5,
   "metadata": {},
   "outputs": [],
   "source": [
    "preprocessor = results['preprocessor']\n",
    "selector = results['feature_selector']\n",
    "\n",
    "X_train_proc = preprocessor.transform(X_train)\n",
    "X_test_proc = preprocessor.transform(X_test)\n",
    "y_train_proc = preprocessor.transform_target(y_train)\n",
    "y_test_proc = preprocessor.transform_target(y_test)\n",
    "\n",
    "X_train_sel = selector.transform(X_train_proc)\n",
    "X_test_sel = selector.transform(X_test_proc)"
   ]
  },
  {
   "cell_type": "markdown",
   "metadata": {},
   "source": [
    "# Get best model\n"
   ]
  },
  {
   "cell_type": "code",
   "execution_count": 6,
   "metadata": {},
   "outputs": [],
   "source": [
    "model = results['best_model']"
   ]
  },
  {
   "cell_type": "markdown",
   "metadata": {},
   "source": [
    "# Evaluate model on test set\n"
   ]
  },
  {
   "cell_type": "code",
   "execution_count": 7,
   "metadata": {},
   "outputs": [
    {
     "name": "stdout",
     "output_type": "stream",
     "text": [
      "\n",
      " Classification Report:\n",
      "              precision    recall  f1-score   support\n",
      "\n",
      "           0       0.84      0.88      0.86      1035\n",
      "           1       0.62      0.53      0.58       374\n",
      "\n",
      "    accuracy                           0.79      1409\n",
      "   macro avg       0.73      0.71      0.72      1409\n",
      "weighted avg       0.78      0.79      0.79      1409\n",
      "\n",
      "\n",
      " Evaluation Metrics:\n",
      "accuracy: 0.7913\n",
      "f1_score: 0.5764\n",
      "precision: 0.6250\n",
      "recall: 0.5348\n",
      "roc_auc: 0.8385\n"
     ]
    },
    {
     "data": {
      "image/png": "[encoded data removed]",
      "text/plain": [
       "<Figure size 640x480 with 2 Axes>"
      ]
     },
     "metadata": {},
     "output_type": "display_data"
    }
   ],
   "source": [
    "model.fit(X_train_sel, y_train_proc)\n",
    "evaluate_classification_model(model, X_test_sel, y_test_proc)\n",
    "plot_confusion(model, X_test_sel, y_test_proc)"
   ]
  },
  {
   "cell_type": "markdown",
   "metadata": {},
   "source": [
    "# Plot feature importance (if model supports it)\n"
   ]
  },
  {
   "cell_type": "code",
   "execution_count": 8,
   "metadata": {},
   "outputs": [],
   "source": [
    "if hasattr(model, 'feature_importances_'):\n",
    "    import numpy as np\n",
    "    plt.figure(figsize=(10, 6))\n",
    "    plt.bar(range(len(model.feature_importances_)), model.feature_importances_)\n",
    "    plt.title(\"Feature Importances\")\n",
    "    plt.xlabel(\"Feature Index\")\n",
    "    plt.ylabel(\"Importance\")\n",
    "    plt.show()"
   ]
  },
  {
   "cell_type": "markdown",
   "metadata": {},
   "source": [
    "# Show Optuna best trial graph (if tuning was used)\n"
   ]
  },
  {
   "cell_type": "code",
   "execution_count": 9,
   "metadata": {},
   "outputs": [],
   "source": [
    "if config.get('do_tuning', False):\n",
    "    import optuna.visualization as vis\n",
    "    from optuna.visualization import plot_optimization_history\n",
    "\n",
    "    print(\"\\n Optuna Optimization History:\")\n",
    "    study = results['model_selector'].study if hasattr(results['model_selector'], 'study') else None\n",
    "    if study:\n",
    "        fig = plot_optimization_history(study)\n",
    "        fig.show()\n",
    "    else:\n",
    "        print(\"No Optuna study object available.\")"
   ]
  }
 ],
 "metadata": {
  "kernelspec": {
   "display_name": "venv",
   "language": "python",
   "name": "python3"
  },
  "language_info": {
   "codemirror_mode": {
    "name": "ipython",
    "version": 3
   },
   "file_extension": ".py",
   "mimetype": "text/x-python",
   "name": "python",
   "nbconvert_exporter": "python",
   "pygments_lexer": "ipython3",
   "version": "3.12.9"
  }
 },
 "nbformat": 4,
 "nbformat_minor": 2
}
